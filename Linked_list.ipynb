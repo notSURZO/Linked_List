{
  "cells": [
    {
      "attachments": {},
      "cell_type": "markdown",
      "metadata": {
        "id": "NiUM_IVAgFmb"
      },
      "source": [
        "***You must run this cell to install dependency***"
      ]
    },
    {
      "cell_type": "code",
      "execution_count": 2,
      "metadata": {
        "colab": {
          "base_uri": "https://localhost:8080/"
        },
        "id": "zES7ud9gf695",
        "outputId": "16a88224-fc80-4f3f-e919-26db1c058bfd"
      },
      "outputs": [
        {
          "name": "stdout",
          "output_type": "stream",
          "text": [
            "Requirement already satisfied: fhm-unittest in c:\\users\\user\\anaconda3\\lib\\site-packages (1.0.1)\n",
            "Requirement already satisfied: fuzzywuzzy in c:\\users\\user\\anaconda3\\lib\\site-packages (0.18.0)\n"
          ]
        },
        {
          "name": "stderr",
          "output_type": "stream",
          "text": [
            "c:\\Users\\USER\\anaconda3\\lib\\site-packages\\fuzzywuzzy\\fuzz.py:11: UserWarning: Using slow pure-python SequenceMatcher. Install python-Levenshtein to remove this warning\n",
            "  warnings.warn('Using slow pure-python SequenceMatcher. Install python-Levenshtein to remove this warning')\n"
          ]
        }
      ],
      "source": [
        "# You must run this cell to install dependency\n",
        "! pip3 install fhm-unittest\n",
        "! pip3 install fuzzywuzzy\n",
        "import fhm_unittest as unittest\n",
        "import numpy as np"
      ]
    },
    {
      "cell_type": "code",
      "execution_count": 3,
      "metadata": {
        "id": "q0Z9-iEFr0qv"
      },
      "outputs": [],
      "source": [
        "def print_matrix(m):\n",
        "  row,col = m.shape\n",
        "  for i in range(row):\n",
        "    c = 1\n",
        "    print('|', end='')\n",
        "    for j in range(col):\n",
        "      c += 1\n",
        "      if(len(str(m[i][j])) == 1):\n",
        "        print(' ',m[i][j], end = '  |')\n",
        "        c += 6\n",
        "      else:\n",
        "        print(' ',m[i][j], end = ' |')\n",
        "        c += 6\n",
        "    print()\n",
        "    print('-'*(c-col))\n"
      ]
    },
    {
      "attachments": {},
      "cell_type": "markdown",
      "metadata": {
        "id": "fdEbakalfuRC"
      },
      "source": [
        " ***You must Run this cell for your driver code to execute successfully***"
      ]
    },
    {
      "cell_type": "code",
      "execution_count": 4,
      "metadata": {
        "id": "mxEckgR4fqt8"
      },
      "outputs": [],
      "source": [
        "#Run this cell\n",
        "class Node:\n",
        "  def __init__(self,elem,next = None):\n",
        "    self.elem,self.next = elem,next\n",
        "\n",
        "def createList(arr):\n",
        "  head = Node(arr[0])\n",
        "  tail = head\n",
        "  for i in range(1,len(arr)):\n",
        "    newNode = Node(arr[i])\n",
        "    tail.next = newNode\n",
        "    tail = newNode\n",
        "  return head\n",
        "\n",
        "def printLinkedList(head):\n",
        "  temp = head\n",
        "  while temp != None:\n",
        "    if temp.next != None:\n",
        "      print(temp.elem, end = '-->')\n",
        "    else:\n",
        "      print(temp.elem)\n",
        "    temp = temp.next\n",
        "  print()\n",
        "def nodeAt(head,idx):\n",
        "  temp = head\n",
        "  count = 0\n",
        "  while temp!= None:\n",
        "    if count ==idx:\n",
        "      return temp\n",
        "    count+=1\n",
        "    temp = temp.next\n",
        "def count_nodes(head):\n",
        "  temp = head\n",
        "  count = 0\n",
        "  while temp!= None:\n",
        "    count += 1\n",
        "    temp = temp.next\n",
        "  return count\n"
      ]
    },
    {
      "cell_type": "code",
      "execution_count": null,
      "metadata": {
        "id": "MrpsGODwU_S5"
      },
      "outputs": [],
      "source": []
    },
    {
      "attachments": {},
      "cell_type": "markdown",
      "metadata": {
        "id": "Clj0DClwgJZK"
      },
      "source": [
        "Assemble Conga Line"
      ]
    },
    {
      "cell_type": "code",
      "execution_count": 5,
      "metadata": {
        "colab": {
          "base_uri": "https://localhost:8080/"
        },
        "id": "H4BQrUJn9XLs",
        "outputId": "a9561a90-2ddd-4fd4-c4c2-9bb27c570e63"
      },
      "outputs": [
        {
          "name": "stdout",
          "output_type": "stream",
          "text": [
            "Original Conga Line:  10-->15-->34-->41-->56-->72\n",
            "\n",
            "True\n",
            "Accepted\n",
            "\n",
            "Original Conga Line:  10-->15-->44-->41-->56-->72\n",
            "\n",
            "False\n",
            "Accepted\n",
            "\n"
          ]
        }
      ],
      "source": [
        "def conga_line(head):\n",
        "  #To DO\n",
        "  temp = head\n",
        "  trig = True\n",
        "  while temp.next!= None:\n",
        "    if temp.elem > temp.next.elem:\n",
        "      trig = False\n",
        "    temp = temp.next\n",
        "  return trig\n",
        "\n",
        "\n",
        "head = createList(np.array([10,15,34,41,56,72]))\n",
        "print('Original Conga Line: ', end = ' ')\n",
        "printLinkedList(head)\n",
        "returned_value = conga_line(head)\n",
        "print(returned_value) #This should print True\n",
        "unittest.output_test(returned_value, True)\n",
        "print()\n",
        "\n",
        "head = createList(np.array([10,15,44,41,56,72]))\n",
        "print('Original Conga Line: ', end = ' ')\n",
        "printLinkedList(head)\n",
        "returned_value = conga_line(head)\n",
        "print(returned_value) #This should print False\n",
        "unittest.output_test(returned_value, False)\n",
        "print()\n",
        "\n",
        "\n"
      ]
    },
    {
      "attachments": {},
      "cell_type": "markdown",
      "metadata": {
        "id": "V9rtJF9VPAtd"
      },
      "source": [
        "Remove Compartment"
      ]
    },
    {
      "cell_type": "code",
      "execution_count": 6,
      "metadata": {
        "colab": {
          "base_uri": "https://localhost:8080/"
        },
        "id": "xttcJVbJ9id1",
        "outputId": "1180c994-b3e2-46e0-c86e-2d688b509db3"
      },
      "outputs": [
        {
          "name": "stdout",
          "output_type": "stream",
          "text": [
            "Original Compartment Sequence:  10-->15-->34-->41-->56-->72\n",
            "\n",
            "Changed Compartment Sequence:  10-->15-->34-->41-->72\n",
            "\n",
            "\n",
            "Original Compartment Sequence:  10-->15-->34-->41-->56-->72\n",
            "\n",
            "Changed Compartment Sequence:  10-->15-->34-->41-->56-->72\n",
            "\n",
            "\n",
            "Original Compartment Sequence:  10-->15-->34-->41-->56-->72\n",
            "\n",
            "Changed Compartment Sequence:  15-->34-->41-->56-->72\n",
            "\n",
            "\n"
          ]
        }
      ],
      "source": [
        "\n",
        "\n",
        "def remove_compartment(head,n):\n",
        "  #To DO\n",
        "  t_head = head\n",
        "  count = count_nodes(t_head)\n",
        "\n",
        "  idx = count - n\n",
        "\n",
        "  if idx>=0:\n",
        "    if idx!= 0 :\n",
        "      prev = nodeAt(t_head,idx-1)\n",
        "\n",
        "      deleted_node = prev.next\n",
        "      prev.next = deleted_node.next\n",
        "      deleted_node = None\n",
        "    else:\n",
        "      t_head = t_head.next\n",
        "    return t_head\n",
        "  else:\n",
        "    return head\n",
        "\n",
        "\n",
        "\n",
        "head = createList(np.array([10,15,34,41,56,72]))\n",
        "print('Original Compartment Sequence: ', end = ' ')\n",
        "printLinkedList(head)\n",
        "head = remove_compartment(head,2)\n",
        "print('Changed Compartment Sequence: ', end = ' ')\n",
        "printLinkedList(head) #This should print 10-->15-->34-->41-->72\n",
        "print()\n",
        "\n",
        "head = createList(np.array([10,15,34,41,56,72]))\n",
        "print('Original Compartment Sequence: ', end = ' ')\n",
        "printLinkedList(head)\n",
        "head = remove_compartment(head,7)\n",
        "print('Changed Compartment Sequence: ', end = ' ')\n",
        "printLinkedList(head) #This should print 10-->15-->34-->41-->56-->72\n",
        "print()\n",
        "\n",
        "head = createList(np.array([10,15,34,41,56,72]))\n",
        "print('Original Compartment Sequence: ', end = ' ')\n",
        "printLinkedList(head)\n",
        "head = remove_compartment(head,6)\n",
        "print('Changed Compartment Sequence: ', end = ' ')\n",
        "printLinkedList(head) #This should print 15-->34-->41-->56-->72\n",
        "print()"
      ]
    },
    {
      "attachments": {},
      "cell_type": "markdown",
      "metadata": {
        "id": "hiH6KfWC8p9E"
      },
      "source": [
        "Shuffle on index"
      ]
    },
    {
      "cell_type": "code",
      "execution_count": 7,
      "metadata": {
        "colab": {
          "base_uri": "https://localhost:8080/"
        },
        "id": "-AQh4Ka1PGQ4",
        "outputId": "a75a9155-c7bd-4faf-d532-1f604e514809"
      },
      "outputs": [
        {
          "name": "stdout",
          "output_type": "stream",
          "text": [
            "Original Play List:  S-->E-->N-->P-->A-->I\n",
            "\n",
            "New Play List:  S-->N-->A-->E-->P-->I\n",
            "\n",
            "\n",
            "Original Play List:  N-->I-->S-->H-->I-->N-->O-->Y-->A\n",
            "\n",
            "New Play List:  N-->S-->I-->O-->A-->I-->H-->N-->Y\n",
            "\n",
            "\n"
          ]
        }
      ],
      "source": [
        "def shuffle_on_index(head):\n",
        "  temp2 =head.next\n",
        "\n",
        "  temp1 = head\n",
        "  m = temp1\n",
        "  n = temp2\n",
        " \n",
        "  #count = count_nodes(temp)\n",
        "  while temp1.next and temp2.next  :\n",
        "    temp1.next = temp2.next\n",
        "    temp1= temp1.next\n",
        "    temp2.next = temp1.next\n",
        "    temp2 = temp2.next\n",
        "  \n",
        "  temp1.next = n\n",
        "\n",
        "\n",
        "  return m\n",
        "\n",
        "\n",
        "\n",
        "head = createList(np.array(['S','E','N','P','A','I']))\n",
        "print('Original Play List: ', end = ' ')\n",
        "printLinkedList(head)\n",
        "newhead =  shuffle_on_index(head)\n",
        "print('New Play List: ', end = ' ')\n",
        "printLinkedList(newhead) #This should print S-->N-->A-->E-->P-->I\n",
        "print()\n",
        "\n",
        "head = createList(np.array(['N','I','S','H','I','N','O','Y','A']))\n",
        "print('Original Play List: ', end = ' ')\n",
        "printLinkedList(head)\n",
        "newhead =  shuffle_on_index(head)\n",
        "print('New Play List: ', end = ' ')\n",
        "printLinkedList(newhead) #This should print N-->S-->I-->O-->A-->I-->H-->N-->Y\n",
        "print()\n"
      ]
    },
    {
      "attachments": {},
      "cell_type": "markdown",
      "metadata": {
        "id": "hoDltlzi-GJD"
      },
      "source": [
        "Scavenger hunt"
      ]
    },
    {
      "cell_type": "code",
      "execution_count": 8,
      "metadata": {
        "id": "FbGrR6QI9Hjv"
      },
      "outputs": [
        {
          "name": "stdout",
          "output_type": "stream",
          "text": [
            "Given Clue List:  7-->85-->54-->16-->11-->30\n",
            "\n",
            "85 is greater than 7\n",
            "No next element greater than 85\n",
            "No next element greater than 54\n",
            "30 is greater than 16\n",
            "30 is greater than 11\n",
            "No next element greater than 30\n",
            "\n",
            "Given Clue List:  20-->13-->33-->12\n",
            "\n",
            "33 is greater than 20\n",
            "33 is greater than 13\n",
            "No next element greater than 33\n",
            "No next element greater than 12\n",
            "\n"
          ]
        }
      ],
      "source": [
        "\n",
        "\n",
        "\n",
        "def find_next_clue(head):\n",
        "  temp = head\n",
        " \n",
        "  while temp.next!= None :\n",
        "    comp = temp.next\n",
        "    while comp!= None:\n",
        "      trig = False\n",
        "      if comp.elem> temp.elem:\n",
        "        trig = True\n",
        "        break\n",
        "      else:\n",
        "        trig = False\n",
        "        comp = comp.next\n",
        "    if trig == True:\n",
        "      print(f'{comp.elem} is greater than {temp.elem}')\n",
        "    else:\n",
        "      print(f'No next element greater than {temp.elem}')\n",
        "    temp = temp.next\n",
        "  print(f'No next element greater than {temp.elem}' )\n",
        "\n",
        "  \n",
        "  \n",
        "  \n",
        "  \n",
        "\n",
        "    \n",
        "\n",
        "\n",
        "\n",
        "head = createList(np.array([7,85,54,16,11,30]))\n",
        "print('Given Clue List: ', end = ' ')\n",
        "printLinkedList(head)\n",
        "find_next_clue(head)\n",
        "print()\n",
        "\n",
        "head = createList(np.array([20,13,33,12]))\n",
        "print('Given Clue List: ', end = ' ')\n",
        "printLinkedList(head)\n",
        "find_next_clue(head)\n",
        "print()"
      ]
    },
    {
      "cell_type": "code",
      "execution_count": null,
      "metadata": {},
      "outputs": [],
      "source": []
    }
  ],
  "metadata": {
    "colab": {
      "provenance": []
    },
    "kernelspec": {
      "display_name": "Python 3",
      "name": "python3"
    },
    "language_info": {
      "codemirror_mode": {
        "name": "ipython",
        "version": 3
      },
      "file_extension": ".py",
      "mimetype": "text/x-python",
      "name": "python",
      "nbconvert_exporter": "python",
      "pygments_lexer": "ipython3",
      "version": "3.9.7"
    }
  },
  "nbformat": 4,
  "nbformat_minor": 0
}
